{
 "cells": [
  {
   "cell_type": "code",
   "execution_count": null,
   "metadata": {},
   "outputs": [
    {
     "name": "stdout",
     "output_type": "stream",
     "text": [
      "started\n",
      "17755\n"
     ]
    },
    {
     "name": "stderr",
     "output_type": "stream",
     "text": [
      "INFO:dedupe.training:Final predicate set:\n",
      "INFO:dedupe.training:(SimplePredicate: (sameSevenCharStartPredicate, Company), SimplePredicate: (sortedAcronym, Company))\n",
      "Company : great american insurance\n",
      "\n",
      "Company : great american insurance group\n",
      "\n",
      "0/10 positive, 0/10 negative\n",
      "Do these records refer to the same thing?\n",
      "(y)es / (n)o / (u)nsure / (f)inished\n"
     ]
    }
   ],
   "source": [
    "import pandas as pd\n",
    "import dedupe\n",
    "import re\n",
    "from simple_salesforce import Salesforce\n",
    "from unidecode import unidecode\n",
    " \n",
    "print('started')\n",
    " \n",
    "sf = Salesforce( instance='https://insideoutdev.lightning.force.com', username ='timfine@insideoutdev.com', password='Panther1<', security_token='oMJP2PCUURddfM1sR6ZtzLluE')\n",
    " \n",
    " \n",
    "accounts = sf.bulk.Account.query(\"SELECT Id, Name, Client_Status__c, Fortune_500__c  FROM Account WHERE Fortune_500__c = True OR Client_Status__c  IN ('Active', 'Inactive')\")\n",
    "leads = sf.bulk.Lead.query(\"SELECT Id, Name, Company, Active_in_Hubspot__c FROM Lead WHERE Active_in_Hubspot__c = True\")\n",
    " \n",
    "df_accounts = pd.DataFrame(accounts, columns=['Id', 'Name', 'Client_Status__c', 'Fortune_500__c'])\n",
    "df_leads = pd.DataFrame(leads, columns = ['Id', 'Name', 'Company', 'Active_in_Hubspot__c'])\n",
    "df_accounts.rename(columns={'Name':'Company'}, inplace=True)\n",
    "df_leads.head()\n",
    " \n",
    " \n",
    "print(len(df_leads))\n",
    "len(df_accounts)\n",
    " \n",
    " \n",
    "def preprocess(column):\n",
    "    column = unidecode(column)\n",
    "    column = re.sub('  +', ' ', column)\n",
    "    column = re.sub('\\n', ' ', column)\n",
    "    column = column.strip().strip('\"').strip(\"'\").lower().strip()\n",
    "    if not column:\n",
    "        column = None\n",
    "    return column\n",
    " \n",
    " \n",
    "df_leads['Company'] = df_leads['Company'].apply(preprocess)\n",
    "df_accounts['Company'] = df_accounts['Company'].apply(preprocess)\n",
    "lead_dict = df_leads.to_dict(orient='index')\n",
    "account_dict = df_accounts.to_dict(orient='index')\n",
    "account_dict[0]\n",
    " \n",
    " \n",
    "fields = [\n",
    "    {'field': 'Company', 'type': 'String'},\n",
    "]\n",
    " \n",
    " \n",
    "linker = dedupe.RecordLink(fields)\n",
    " \n",
    " \n",
    "linker.prepare_training(lead_dict, account_dict, sample_size=15000)\n",
    " \n",
    " \n",
    "dedupe.console_label(linker)\n",
    " \n",
    " \n",
    "linker.train()\n",
    " \n",
    " \n",
    "with open('training.json', 'w') as tf:\n",
    "            linker.write_training(tf)\n",
    "with open('settings_file', 'wb') as sf:\n",
    "            linker.write_settings(sf)\n",
    " \n",
    " \n",
    "linked_records = linker.join(lead_dict, account_dict, 0.0)\n",
    " \n",
    " \n",
    "linked_records[0][0][0]\n",
    " \n",
    " \n",
    "df_linked = pd.DataFrame(columns=['LeadIndex', 'AccountIndex', 'Score'])\n",
    "for r in linked_records:\n",
    "    df_linked.loc[len(df_linked)] = [r[0][0], r[0][1], r[1]]\n",
    "df_linked.head()\n",
    " \n",
    " \n",
    "df_lead_link = df_linked.join(df_leads, on='LeadIndex', how='left')\n",
    "df_final = df_lead_link.join(df_accounts, on='AccountIndex', how='left', rsuffix='_Account')\n",
    "df_final.rename(columns={'Company_Account':'Account Name', 'Id_Account':'AccountId', 'Name':'Lead Name'}, inplace=True)\n",
    "df_final.head()\n",
    " \n",
    "print(df_final)\n",
    "# df_final.to_excel('Account Id Matches.xlsx', index=False)"
   ]
  },
  {
   "cell_type": "code",
   "execution_count": null,
   "metadata": {},
   "outputs": [],
   "source": []
  },
  {
   "cell_type": "code",
   "execution_count": null,
   "metadata": {},
   "outputs": [],
   "source": []
  },
  {
   "cell_type": "code",
   "execution_count": null,
   "metadata": {},
   "outputs": [],
   "source": []
  },
  {
   "cell_type": "code",
   "execution_count": null,
   "metadata": {},
   "outputs": [],
   "source": []
  },
  {
   "cell_type": "code",
   "execution_count": null,
   "metadata": {},
   "outputs": [],
   "source": []
  },
  {
   "cell_type": "code",
   "execution_count": null,
   "metadata": {},
   "outputs": [],
   "source": []
  }
 ],
 "metadata": {
  "kernelspec": {
   "display_name": "Python 3",
   "language": "python",
   "name": "python3"
  },
  "language_info": {
   "codemirror_mode": {
    "name": "ipython",
    "version": 3
   },
   "file_extension": ".py",
   "mimetype": "text/x-python",
   "name": "python",
   "nbconvert_exporter": "python",
   "pygments_lexer": "ipython3",
   "version": "3.8.5"
  }
 },
 "nbformat": 4,
 "nbformat_minor": 4
}
